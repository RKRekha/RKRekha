{
 "cells": [
  {
   "cell_type": "markdown",
   "metadata": {},
   "source": [
    " #           <center>        <font color =blue>  Python Basics   </font>   </center>                         \n"
   ]
  },
  {
   "cell_type": "markdown",
   "metadata": {},
   "source": [
    "# <font color = \"green\"> Features </font>"
   ]
  },
  {
   "cell_type": "markdown",
   "metadata": {},
   "source": [
    "Python is an \n",
    "    -- multi-purpose, \n",
    "    -- interpreted, \n",
    "    -- object oriented functional,\n",
    "    -- high level \n",
    "    -- programming language.\n",
    "    -- open source"
   ]
  },
  {
   "cell_type": "markdown",
   "metadata": {},
   "source": [
    "-- Concise\n",
    "-- More Readable, \n",
    "-- written fewer lines of code"
   ]
  },
  {
   "cell_type": "markdown",
   "metadata": {},
   "source": [
    "Why Python is slower as compared to Java ?"
   ]
  },
  {
   "cell_type": "code",
   "execution_count": null,
   "metadata": {},
   "outputs": [],
   "source": [
    "print(10+20) "
   ]
  },
  {
   "cell_type": "markdown",
   "metadata": {},
   "source": [
    "# <font color=green>Comment</font>\n",
    "Comments are statement that are not executed during program execution. \n",
    "These are the instructions for the programmer to explain the python code. Comment always written after hash symbol."
   ]
  },
  {
   "cell_type": "code",
   "execution_count": 7,
   "metadata": {},
   "outputs": [
    {
     "name": "stdout",
     "output_type": "stream",
     "text": [
      "Hi Everyone\n"
     ]
    }
   ],
   "source": [
    "print(\"Hi Everyone\") # This is a statement to print any information"
   ]
  },
  {
   "cell_type": "code",
   "execution_count": 8,
   "metadata": {},
   "outputs": [
    {
     "data": {
      "text/plain": [
       "'This is multi line comment example. There is no specific syntax for defining multiple line comment in python. But \\npython declares multiple line string using qutation three times. The same can be used to write multiple line comment'"
      ]
     },
     "execution_count": 8,
     "metadata": {},
     "output_type": "execute_result"
    }
   ],
   "source": [
    "\"\"\"This is multi line comment example. There is no specific syntax for defining multiple line comment in python. But \n",
    "python declares multiple line string using qutation three times. The same can be used to write multiple line comment\"\"\""
   ]
  },
  {
   "cell_type": "markdown",
   "metadata": {},
   "source": [
    "# <font color=green>Variables </font>\n",
    "\n",
    "Variables are the containers for storing data. Variables are created once value is assigned to it. \n",
    "### Rules for naming a variable.\n",
    " consists of alphabet, number and underscore\n",
    " Variable name can starts with only alphabet and underscore.\n",
    " it is case sensitive"
   ]
  },
  {
   "cell_type": "code",
   "execution_count": 9,
   "metadata": {},
   "outputs": [
    {
     "name": "stdout",
     "output_type": "stream",
     "text": [
      "Your's age 26\n",
      "Father's age 55\n",
      "Mother's age 53\n",
      "GrandFather's age 85\n",
      "GrandMother's age 75\n"
     ]
    }
   ],
   "source": [
    "You = 21\n",
    "Father = 50\n",
    "Mother = 48\n",
    "GrandFather = 80\n",
    "GrandMother = 70\n",
    "print (\"Your's age\", 21 + 5)\n",
    "print (\"Father's age\", 50 + 5)\n",
    "print (\"Mother's age\", 48 + 5)\n",
    "print (\"GrandFather's age\", 80 + 5)\n",
    "print (\"GrandMother's age\", 70 + 5)\n"
   ]
  },
  {
   "cell_type": "markdown",
   "metadata": {},
   "source": [
    "# <font color=green>Keywords</font>\n",
    "\n",
    "keywords are resorved words of python used for specific purpose.\n",
    "Ex : pass, continue, if .\n",
    "It can not be used as variable."
   ]
  },
  {
   "cell_type": "code",
   "execution_count": 10,
   "metadata": {},
   "outputs": [],
   "source": [
    "pass1 = 24"
   ]
  },
  {
   "cell_type": "markdown",
   "metadata": {},
   "source": [
    "# <font color=green>DataType </font>\n",
    "Python follows <font color = \"Red\">duck typing</font>. Once value is assigned to a variable, it implicitely decides the datatype of the value."
   ]
  },
  {
   "cell_type": "code",
   "execution_count": 11,
   "metadata": {},
   "outputs": [],
   "source": [
    "xint = 3\n",
    "xfloat = 3.5\n",
    "xstr = 'Sam' # String can e defined within double quote as well ex: xstr = \"Sam\". \n",
    "             # The multiple line string can be defined by specifying the string within the quote defining three times.\n",
    "xbool= False"
   ]
  },
  {
   "cell_type": "code",
   "execution_count": null,
   "metadata": {},
   "outputs": [],
   "source": [
    "type(xint)\n",
    "type(xfloat)\n",
    "type(xstr)\n",
    "type(True)"
   ]
  },
  {
   "cell_type": "markdown",
   "metadata": {},
   "source": [
    "# <font color=green>Operators </font>\n",
    "\n",
    "These are used to perform operation over the variable.\n",
    "\n",
    "Arithmatic Operators : +, - , * , /, %, //, ** , \n",
    "\n",
    "Assignment Operators : =, +=, -=, *=, /=, %=, **=, //=\n",
    "\n",
    "Relational Operators : >, >=, <, <=, ==, !=\n",
    "\n",
    "Logical Operators : and, or, not\n",
    "\n",
    "Bitwise Opertors : &, | , ~\n",
    "\n",
    "Identity Operators : is, is not\n",
    "\n",
    "Membership Operators : in, not in "
   ]
  },
  {
   "cell_type": "code",
   "execution_count": 3,
   "metadata": {},
   "outputs": [
    {
     "name": "stdout",
     "output_type": "stream",
     "text": [
      "30\n",
      "-10\n",
      "3.4\n",
      "4\n",
      "3\n",
      "9\n"
     ]
    }
   ],
   "source": [
    "print (10 + 20)\n",
    "print (10 - 20)\n",
    "print (34/10)\n",
    "print (34%10)\n",
    "print (34//10)\n",
    "print (3 ** 2)"
   ]
  },
  {
   "cell_type": "code",
   "execution_count": 13,
   "metadata": {},
   "outputs": [
    {
     "name": "stdout",
     "output_type": "stream",
     "text": [
      "True\n",
      "False\n",
      "True\n",
      "False\n",
      "False\n",
      "True\n"
     ]
    }
   ],
   "source": [
    "print (20 > 10)\n",
    "print (20 < 10)\n",
    "print (20 >= 10)\n",
    "print (20 <= 10)\n",
    "print (20 == 10)\n",
    "print (20 != 10)"
   ]
  },
  {
   "cell_type": "code",
   "execution_count": 14,
   "metadata": {},
   "outputs": [
    {
     "name": "stdout",
     "output_type": "stream",
     "text": [
      "False\n"
     ]
    }
   ],
   "source": [
    "print((10 > 20) and (20 > 10) or not(30 > 20))"
   ]
  },
  {
   "cell_type": "markdown",
   "metadata": {},
   "source": [
    "# <font color=green>String</font> \n",
    "is a sequence of characters"
   ]
  },
  {
   "cell_type": "code",
   "execution_count": 27,
   "metadata": {},
   "outputs": [],
   "source": [
    "# define a string, single line multi line\n",
    "strtxt = 'Hello'"
   ]
  },
  {
   "cell_type": "markdown",
   "metadata": {},
   "source": [
    "String Traversal : String can be traversed in both direction using +ve and -ve index. An expression can be used as an index. "
   ]
  },
  {
   "cell_type": "code",
   "execution_count": 30,
   "metadata": {},
   "outputs": [
    {
     "data": {
      "text/plain": [
       "'el'"
      ]
     },
     "execution_count": 30,
     "metadata": {},
     "output_type": "execute_result"
    }
   ],
   "source": [
    "strtxt[1:3]\n",
    "strtxt[-4:-2]"
   ]
  },
  {
   "cell_type": "code",
   "execution_count": null,
   "metadata": {},
   "outputs": [],
   "source": [
    "len() # length of a string "
   ]
  },
  {
   "cell_type": "markdown",
   "metadata": {},
   "source": [
    "### methods of string "
   ]
  },
  {
   "cell_type": "code",
   "execution_count": null,
   "metadata": {},
   "outputs": [],
   "source": [
    "find(value, start, end) #takes the string give the index of first occurance, if not present return -1 \n",
    "index() # gives the index of first occurance of string\n",
    "lower()\n",
    "upper()\n",
    "\n",
    "split()   # break the string into word using a separator, join() # it is the inverse of split\n",
    "\n",
    "replace() # replaces all occurances of string with another string\n",
    "\n",
    "format()\n",
    "count()\n",
    "capitalize()/title()\n",
    "strip()\n",
    "startswith()\n",
    "\n",
    "-----------------\n",
    "concatenation"
   ]
  },
  {
   "cell_type": "markdown",
   "metadata": {},
   "source": [
    "### String Operations"
   ]
  },
  {
   "cell_type": "markdown",
   "metadata": {},
   "source": [
    "+ : Concatenation\n",
    "* : Repetition   "
   ]
  },
  {
   "cell_type": "code",
   "execution_count": null,
   "metadata": {},
   "outputs": [],
   "source": [
    "String Comparison"
   ]
  },
  {
   "cell_type": "code",
   "execution_count": null,
   "metadata": {},
   "outputs": [],
   "source": [
    "== : comparison\n",
    "< , < : all upper case letters comes before lower case\n"
   ]
  },
  {
   "cell_type": "code",
   "execution_count": null,
   "metadata": {},
   "outputs": [],
   "source": [
    "String Traversal\n",
    "String Slices\n",
    "Strings are immutable\n",
    "Search a letter in the string"
   ]
  },
  {
   "cell_type": "markdown",
   "metadata": {},
   "source": [
    "## <font color=green>List </font>\n",
    "is a sequence of values.\n"
   ]
  },
  {
   "cell_type": "code",
   "execution_count": 16,
   "metadata": {},
   "outputs": [
    {
     "name": "stdout",
     "output_type": "stream",
     "text": [
      "list of five books ['Bottle of Lies', 'Shades of Saffron', 'Black Warrant', 'Bihar Diaries', 'Non-Conformist']\n",
      "list of five author ['Katherin Eban', 'Sabba Naqbi', 'Sunil Gupta', 'Amit Lodha', 'Parikshat Sahni']\n"
     ]
    }
   ],
   "source": [
    "# Q. Write a program to print 5 books using single print statement ?\n",
    "listofbooks = ['Bottle of Lies', 'Shades of Saffron', 'Black Warrant', 'Bihar Diaries', 'Non-Conformist']\n",
    "print('list of five books', listofbooks)\n",
    "listofauthor = ['Katherin Eban', 'Sabba Naqbi', 'Sunil Gupta', 'Amit Lodha', 'Parikshat Sahni']\n",
    "print('list of five author', listofauthor)"
   ]
  },
  {
   "cell_type": "code",
   "execution_count": 33,
   "metadata": {},
   "outputs": [],
   "source": [
    "listfromstr = list(\"python\") # list function breaks a string into individual letter."
   ]
  },
  {
   "cell_type": "code",
   "execution_count": 34,
   "metadata": {},
   "outputs": [
    {
     "data": {
      "text/plain": [
       "['p', 'y', 't', 'h', 'o', 'n']"
      ]
     },
     "execution_count": 34,
     "metadata": {},
     "output_type": "execute_result"
    }
   ],
   "source": [
    "listfromstr"
   ]
  },
  {
   "cell_type": "code",
   "execution_count": 17,
   "metadata": {},
   "outputs": [],
   "source": [
    "# List Comprehension : concise way to create a list\n",
    "# [expression followed by zero or more for or if clauses]\n",
    "Every List comprehension can be rewritten using for loop. But every for loop can not be rewritten as a list \n",
    "comprehension."
   ]
  },
  {
   "cell_type": "markdown",
   "metadata": {},
   "source": [
    "index starts from zero.\n"
   ]
  },
  {
   "cell_type": "code",
   "execution_count": 18,
   "metadata": {},
   "outputs": [
    {
     "data": {
      "text/plain": [
       "'Black Warrant'"
      ]
     },
     "execution_count": 18,
     "metadata": {},
     "output_type": "execute_result"
    }
   ],
   "source": [
    "\"\"\"Access an list element\"\"\"\n",
    "listofbooks[3] \n",
    "listofbooks[-3] "
   ]
  },
  {
   "cell_type": "code",
   "execution_count": 19,
   "metadata": {},
   "outputs": [
    {
     "data": {
      "text/plain": [
       "['Shades of Saffron', 'Black Warrant']"
      ]
     },
     "execution_count": 19,
     "metadata": {},
     "output_type": "execute_result"
    }
   ],
   "source": [
    "\"\"\"Subset of list\"\"\"\n",
    "listofbooks[3:]\n",
    "listofbooks[-3:]\n",
    "listofbooks[1:3]\n",
    "#listofbooks[-3:-1]"
   ]
  },
  {
   "cell_type": "code",
   "execution_count": null,
   "metadata": {},
   "outputs": [],
   "source": [
    "\"\"\"list operations\"\"\" #operations over list create new list\n",
    "+ : concatenation\n",
    "* : repeatation"
   ]
  },
  {
   "cell_type": "markdown",
   "metadata": {},
   "source": [
    "# List Methods\n",
    "Most list methods are void. They modify the list and return None."
   ]
  },
  {
   "cell_type": "code",
   "execution_count": 20,
   "metadata": {},
   "outputs": [
    {
     "ename": "NameError",
     "evalue": "name 'fivebooks' is not defined",
     "output_type": "error",
     "traceback": [
      "\u001b[0;31m---------------------------------------------------------------------------\u001b[0m",
      "\u001b[0;31mNameError\u001b[0m                                 Traceback (most recent call last)",
      "\u001b[0;32m<ipython-input-20-44ce1732a011>\u001b[0m in \u001b[0;36m<module>\u001b[0;34m\u001b[0m\n\u001b[1;32m     24\u001b[0m \u001b[0;31m#listofbooks.clear()\u001b[0m\u001b[0;34m\u001b[0m\u001b[0;34m\u001b[0m\u001b[0;34m\u001b[0m\u001b[0m\n\u001b[1;32m     25\u001b[0m \u001b[0;31m#fivebooks = listofbooks.copy()\u001b[0m\u001b[0;34m\u001b[0m\u001b[0;34m\u001b[0m\u001b[0;34m\u001b[0m\u001b[0m\n\u001b[0;32m---> 26\u001b[0;31m \u001b[0mfivebooks\u001b[0m\u001b[0;34m.\u001b[0m\u001b[0mremove\u001b[0m\u001b[0;34m(\u001b[0m\u001b[0;34m'Bottle of Lies'\u001b[0m\u001b[0;34m)\u001b[0m\u001b[0;34m\u001b[0m\u001b[0;34m\u001b[0m\u001b[0m\n\u001b[0m\u001b[1;32m     27\u001b[0m \u001b[0mprint\u001b[0m\u001b[0;34m(\u001b[0m\u001b[0;34m'fivebooks.....'\u001b[0m\u001b[0;34m,\u001b[0m \u001b[0mfivebooks\u001b[0m \u001b[0;34m)\u001b[0m\u001b[0;34m\u001b[0m\u001b[0;34m\u001b[0m\u001b[0m\n\u001b[1;32m     28\u001b[0m \u001b[0mprint\u001b[0m\u001b[0;34m(\u001b[0m\u001b[0;34m'listofbooks.....'\u001b[0m\u001b[0;34m,\u001b[0m \u001b[0mlistofbooks\u001b[0m \u001b[0;34m)\u001b[0m\u001b[0;34m\u001b[0m\u001b[0;34m\u001b[0m\u001b[0m\n",
      "\u001b[0;31mNameError\u001b[0m: name 'fivebooks' is not defined"
     ]
    }
   ],
   "source": [
    "\"\"\"length\"\"\"\n",
    "#len(listofbooks)\n",
    "#methods of list\n",
    "\n",
    "\"\"\"insert\"\"\" \n",
    "#listofbooks.insert(3, 'Rajniti')\n",
    "\n",
    "\"\"\"update\"\"\"\n",
    "#listofbooks.append('Barbanki Narcos')\n",
    "#listofbooks.append(listofauthor)\n",
    "#listofbooks.extend(listofauthor)\n",
    "\n",
    "\"\"\"delete\"\"\"  \n",
    "#listofbooks.remove('Rajniti')\n",
    "#listofbooks.pop()\n",
    "#listofbooks.remove(listofauthor)\n",
    "\n",
    "\"\"\"replace\"\"\"\n",
    "#listofbooks[3] = 'Room no 105', listofbooks[1:3] = [\"Room no 105\", \"Rajniti\"]\n",
    "\n",
    "#listofbooks.count('Room no 105')\n",
    "#listofbooks.reverse()\n",
    "#listofbooks.sort()\n",
    "#listofbooks.clear()\n",
    "#fivebooks = listofbooks.copy()\n",
    "fivebooks.remove('Bottle of Lies')"
   ]
  },
  {
   "cell_type": "code",
   "execution_count": null,
   "metadata": {},
   "outputs": [],
   "source": []
  },
  {
   "cell_type": "markdown",
   "metadata": {},
   "source": [
    "# <font color = \"Green\" > Tuple </font> \n",
    "Ordered Collection and non-editable"
   ]
  },
  {
   "cell_type": "code",
   "execution_count": 2,
   "metadata": {},
   "outputs": [
    {
     "name": "stdout",
     "output_type": "stream",
     "text": [
      "list of five books in tuple ('Bottle of Lies', 'Shades of Saffron', 'Black Warrant', 'Bihar Diaries', 'Non-Conformist')\n"
     ]
    }
   ],
   "source": [
    "tupleofbooks = ('Bottle of Lies', 'Shades of Saffron', 'Black Warrant', 'Bihar Diaries', 'Non-Conformist')\n",
    "print('list of five books in tuple',  tupleofbooks)"
   ]
  },
  {
   "cell_type": "code",
   "execution_count": 5,
   "metadata": {},
   "outputs": [
    {
     "data": {
      "text/plain": [
       "('Black Warrant', 'Bihar Diaries', 'Non-Conformist')"
      ]
     },
     "execution_count": 5,
     "metadata": {},
     "output_type": "execute_result"
    }
   ],
   "source": [
    "\"\"\"Access Tuple Items\"\"\"\n",
    "#tupleofbooks[1]\n",
    "#tupleofbooks[-1]\n",
    "\"\"\"Subset of Tuple\"\"\" \n",
    "tupleofbooks[1:3]\n",
    "tupleofbooks[1:]\n",
    "tupleofbooks[-3:]"
   ]
  },
  {
   "cell_type": "code",
   "execution_count": null,
   "metadata": {},
   "outputs": [],
   "source": [
    "\"\"\"tuple operations\"\"\" #operations over tuple create new tuple\n",
    "+ : concatenation\n",
    "* : repeatation"
   ]
  },
  {
   "cell_type": "code",
   "execution_count": 10,
   "metadata": {},
   "outputs": [
    {
     "data": {
      "text/plain": [
       "1"
      ]
     },
     "execution_count": 10,
     "metadata": {},
     "output_type": "execute_result"
    }
   ],
   "source": [
    "#Operations on Tuple\n",
    "\"\"\"length\"\"\"\n",
    "len(tupleofbooks)\n",
    "\"\"\"methods of tuple\"\"\"\n",
    "tupleofbooks.index('Bottle of Lies')\n",
    "tupleofbooks.count('Shades of Saffron')"
   ]
  },
  {
   "cell_type": "code",
   "execution_count": null,
   "metadata": {},
   "outputs": [],
   "source": [
    "function"
   ]
  },
  {
   "cell_type": "markdown",
   "metadata": {},
   "source": [
    "# <font color = \"green\" > Set</font>\n",
    "Unordered collection. So unindexed, unique "
   ]
  },
  {
   "cell_type": "code",
   "execution_count": 2,
   "metadata": {},
   "outputs": [],
   "source": [
    "setofdryfruits = {'almond', 'pistachio', 'cherry', 'raisin'}\n",
    "setofdryfruits\n",
    "setoflegumes = {'Urad dal', 'Arhar Dal', 'Moong dal'}"
   ]
  },
  {
   "cell_type": "markdown",
   "metadata": {},
   "source": [
    "set is used for membership testing and duplicate entries."
   ]
  },
  {
   "cell_type": "code",
   "execution_count": 19,
   "metadata": {},
   "outputs": [
    {
     "data": {
      "text/plain": [
       "set()"
      ]
     },
     "execution_count": 19,
     "metadata": {},
     "output_type": "execute_result"
    }
   ],
   "source": [
    "#Collection Operations over Sets\n",
    "\"\"\"length\"\"\"\n",
    "#len(setofdryfruits)\n",
    "\"\"\"update\"\"\"\n",
    "#setofdryfruits.add('dates')  # add one item\n",
    "#setofdryfruits.update(['Cashew', 'Walnuts']) add more than one item\n",
    "\n",
    "\"\"\"delete\"\"\"\n",
    "#setofdryfruits.remove('Walnuts')\n",
    "#setofdryfruits.discard('almond')\n",
    "#setofdryfruits.pop()\n",
    "\n",
    "setofdryfruits.clear()\n",
    "setofdryfruits\n",
    "\n",
    "# Set Operations over set (Union, intersection, difference, symmetric difference)\n",
    "#setofdryfruits.union(setoflegumes) \n",
    "#setofdryfruits.intersection(setoflegumes)\n",
    "#setofdryfruits.difference(setoflegumes)\n",
    "#setofdryfruits.symmetric_difference(setoflegumes)"
   ]
  },
  {
   "cell_type": "markdown",
   "metadata": {},
   "source": [
    "# <font color=\"green\"> Dictionary </font>\n",
    "\n",
    "is like a list. In list indices have to be integers. In dictionary they can be of any type. The indices are called key and each key has a value. So, the data stored in dictionary in key-value pair\n",
    "Duplicate keys are not allowed."
   ]
  },
  {
   "cell_type": "code",
   "execution_count": 36,
   "metadata": {},
   "outputs": [
    {
     "data": {
      "text/plain": [
       "{'Ronit': 45, 'Rajeeb': 86, 'Amar': 91}"
      ]
     },
     "execution_count": 36,
     "metadata": {},
     "output_type": "execute_result"
    }
   ],
   "source": [
    "# Create dictionary\n",
    "studentsmarks = {'Ronit' : 45,\n",
    "                 'Rajeeb' : 86,\n",
    "                 'Amar' : 91}\n",
    "studentsmarks\n",
    "\n",
    "#Or\n",
    "studentsmarks = dict(Ronit = 45,\n",
    "                 Rajeeb = 86,\n",
    "                 Amar = 91)\n",
    "studentsmarks"
   ]
  },
  {
   "cell_type": "code",
   "execution_count": 6,
   "metadata": {},
   "outputs": [
    {
     "data": {
      "text/plain": [
       "'NA'"
      ]
     },
     "execution_count": 6,
     "metadata": {},
     "output_type": "execute_result"
    }
   ],
   "source": [
    "#Operation over dictionary\n",
    "#Access value of key\n",
    "studentsmarks['Ronit']\n",
    "studentsmarks.get('Rajesh', 'NA')\n"
   ]
  },
  {
   "cell_type": "code",
   "execution_count": 48,
   "metadata": {},
   "outputs": [
    {
     "data": {
      "text/plain": [
       "'Remove item '"
      ]
     },
     "execution_count": 48,
     "metadata": {},
     "output_type": "execute_result"
    }
   ],
   "source": [
    "\"\"\"length\"\"\"\n",
    "#len(studentsmarks)\n",
    "\"\"\"Add item to dict\"\"\"\n",
    "#studentsmarks['Akbar'] = 90\n",
    "\"\"\"Update the item \"\"\"\n",
    "#studentsmarks['Amar'] = 99\n",
    "\"\"\"Add/Update multiple item\"\"\"\n",
    "#studentsmarks.update({\"Akbar\":90, \"Amar\":99})\n",
    "\"\"\"Remove item \"\"\"\n",
    "#studentsmarks.pop('Akbar')\n",
    "#studentsmarks.popitem()"
   ]
  },
  {
   "cell_type": "code",
   "execution_count": 39,
   "metadata": {},
   "outputs": [
    {
     "data": {
      "text/plain": [
       "dict_items([('Ronit', 45), ('Rajeeb', 86)])"
      ]
     },
     "execution_count": 39,
     "metadata": {},
     "output_type": "execute_result"
    }
   ],
   "source": [
    "\"\"\"Get all keys/values/items\"\"\"\n",
    "#studentsmarks.keys()\n",
    "#studentsmarks.values()\n",
    "studentsmarks.items()\n",
    "studentsmarks"
   ]
  },
  {
   "cell_type": "markdown",
   "metadata": {},
   "source": [
    "# <font color=\"Green\"> Conditional Statements</font>"
   ]
  },
  {
   "cell_type": "code",
   "execution_count": 42,
   "metadata": {},
   "outputs": [
    {
     "name": "stdout",
     "output_type": "stream",
     "text": [
      "a less than 200 and less than b also\n"
     ]
    }
   ],
   "source": [
    "a =20\n",
    "b = 30\n",
    "\n",
    "if a > 200 : \n",
    "    print ('a greater than 200')\n",
    "elif a > b :\n",
    "    print ('b greater than 200')\n",
    "else :\n",
    "    print ('a less than 200 and less than b also')\n",
    "       "
   ]
  },
  {
   "cell_type": "code",
   "execution_count": 61,
   "metadata": {},
   "outputs": [
    {
     "name": "stdout",
     "output_type": "stream",
     "text": [
      "a equal to b\n"
     ]
    }
   ],
   "source": [
    "a, b = 20,20 \n",
    "if a is b :\n",
    "    print (\"a equal to b\")"
   ]
  },
  {
   "cell_type": "code",
   "execution_count": 43,
   "metadata": {},
   "outputs": [
    {
     "name": "stdout",
     "output_type": "stream",
     "text": [
      "1\n",
      "1\n",
      "2\n",
      "3\n",
      "5\n"
     ]
    }
   ],
   "source": [
    "start = 1\n",
    "end = 200\n",
    "secval = 1\n",
    "print (1)\n",
    "print(secval)\n",
    "thirdval = start + secval\n",
    "if(thirdval < 200) :\n",
    "    print (thirdval) # 1 + 1\n",
    "fourthval = secval + thirdval\n",
    "if(fourthval < 200) :\n",
    "    print (fourthval)\n",
    "fifthval = thirdval+fourthval\n",
    "if(fifthval < 200):\n",
    "    print (fifthval)"
   ]
  },
  {
   "cell_type": "markdown",
   "metadata": {},
   "source": [
    "# <font color=\"Green\"> Loops (while, for)</font>"
   ]
  },
  {
   "cell_type": "code",
   "execution_count": 7,
   "metadata": {},
   "outputs": [
    {
     "name": "stdout",
     "output_type": "stream",
     "text": [
      "0 1 1 2 3 5 8 13 21 34 55 89 144 "
     ]
    }
   ],
   "source": [
    "start, secval = 0, 1\n",
    "\n",
    "while start < 200 :\n",
    "    print (start, end = ' ') \n",
    "    start, secval = secval, start +secval \n",
    "     "
   ]
  },
  {
   "cell_type": "code",
   "execution_count": 54,
   "metadata": {},
   "outputs": [
    {
     "name": "stdout",
     "output_type": "stream",
     "text": [
      "r\n",
      "e\n",
      "k\n",
      "h\n",
      "a\n"
     ]
    }
   ],
   "source": [
    "# for loop is used when the iteration is definite\n",
    "for x in 'rekha':\n",
    "    print(x)"
   ]
  },
  {
   "cell_type": "code",
   "execution_count": null,
   "metadata": {},
   "outputs": [],
   "source": [
    "# range function is required when the iteration is required over a range of numbers\n",
    "for x in range(1, 6): # range(6), range(1, 6, 2) , range(-10, -100, -20)\n",
    "    print(x)"
   ]
  },
  {
   "cell_type": "markdown",
   "metadata": {},
   "source": [
    "### continue \n",
    "The current iteration will be stopped and the control will move to the begining of the loop to start the next iteration.\n",
    "\n",
    "### break\n",
    "The control will move out of the loop"
   ]
  },
  {
   "cell_type": "markdown",
   "metadata": {},
   "source": [
    "### else in loop\n",
    "else block executed when loop completes its operation"
   ]
  },
  {
   "cell_type": "code",
   "execution_count": 3,
   "metadata": {},
   "outputs": [
    {
     "name": "stdout",
     "output_type": "stream",
     "text": [
      "inside for loop\n",
      "inside for loop\n",
      "inside for loop\n",
      "inside for loop\n",
      "inside for loop\n",
      "inside else block\n"
     ]
    }
   ],
   "source": [
    "for x in range(1, 6):\n",
    "    print(\"inside for loop\")\n",
    "else :\n",
    "    print(\"inside else block\")"
   ]
  },
  {
   "cell_type": "code",
   "execution_count": 6,
   "metadata": {},
   "outputs": [
    {
     "name": "stdout",
     "output_type": "stream",
     "text": [
      "inside for loop on iteration 1\n",
      "inside for loop on iteration 2\n",
      "inside for loop on iteration 3\n",
      "inside for loop on iteration 4\n",
      "inside for loop on iteration 5\n"
     ]
    }
   ],
   "source": [
    "# else block is not executed if loop is terminated by break statement\n",
    "for x in range(1, 6):\n",
    "    print(\"inside for loop on iteration\",  x)\n",
    "    if x == 5:\n",
    "        break\n",
    "else :\n",
    "    print(\"inside else clause of for loop\")"
   ]
  },
  {
   "cell_type": "code",
   "execution_count": 4,
   "metadata": {},
   "outputs": [
    {
     "name": "stdout",
     "output_type": "stream",
     "text": [
      "inside while loop\n",
      "inside while loop\n",
      "inside while loop\n",
      "inside while loop\n",
      "inside while loop\n",
      "inside else block\n"
     ]
    }
   ],
   "source": [
    "a = 5\n",
    "while a > 0 :\n",
    "    print(\"inside while loop\")\n",
    "    a = a - 1\n",
    "else:\n",
    "    print(\"inside else block\")"
   ]
  },
  {
   "cell_type": "markdown",
   "metadata": {},
   "source": [
    "# <font color=\"Green\"> Functions </font>\n",
    "\n",
    ": sequence of statements that performs a computation. The sequence of code is given a name \n",
    "It is written once and can be executed wherever required using its name. It can take parameter and return value"
   ]
  },
  {
   "cell_type": "code",
   "execution_count": null,
   "metadata": {},
   "outputs": [],
   "source": [
    "# function with default argument\n",
    "def print_name_age(name, age = 67):\n",
    "    print name\n",
    "    print age"
   ]
  },
  {
   "cell_type": "code",
   "execution_count": 49,
   "metadata": {},
   "outputs": [
    {
     "name": "stdout",
     "output_type": "stream",
     "text": [
      "6\n"
     ]
    }
   ],
   "source": [
    "#write a functions that will simulate calculator\n",
    "def simplecalculator(num1, num2, op):\n",
    "    if(op == '+'):\n",
    "        return num1+num2\n",
    "    if(op == '-'):\n",
    "        return num1-num2\n",
    "    if(op == '*'):\n",
    "        return num1*num2\n",
    "    if(op == '/'):\n",
    "        return num1/num2\n",
    "    \n",
    "print(simplecalculator(4, 2, '+'))"
   ]
  },
  {
   "cell_type": "markdown",
   "metadata": {},
   "source": [
    " <font color=\"Red\" type=\"bold\" ><b>Indentation</b></font>  in python used to define a block of code."
   ]
  },
  {
   "cell_type": "markdown",
   "metadata": {},
   "source": [
    "## <font color=\"Green\"> Anonymous function </font> \n",
    "Function has no name. It is defined using lambda. It can have only one expression and multiple arguments separated by comma."
   ]
  },
  {
   "cell_type": "code",
   "execution_count": null,
   "metadata": {},
   "outputs": [],
   "source": [
    "#syntax\n",
    "lambda arguments : expression"
   ]
  },
  {
   "cell_type": "code",
   "execution_count": null,
   "metadata": {},
   "outputs": [],
   "source": [
    "# Ex\n",
    "x = 2\n",
    "y = 3\n",
    "(lambda x, y : x+y) (x, y)"
   ]
  },
  {
   "cell_type": "markdown",
   "metadata": {},
   "source": [
    "lambda function can be returned from a function or can be passed onto a function as parameter"
   ]
  },
  {
   "cell_type": "markdown",
   "metadata": {},
   "source": [
    "# <font color=\"Green\"> pass statement </font>"
   ]
  },
  {
   "cell_type": "code",
   "execution_count": null,
   "metadata": {},
   "outputs": [],
   "source": [
    "if True:\n",
    "    pass"
   ]
  },
  {
   "cell_type": "code",
   "execution_count": null,
   "metadata": {},
   "outputs": [],
   "source": [
    "for x in 1, 2, 3 :\n",
    "    pass"
   ]
  },
  {
   "cell_type": "code",
   "execution_count": null,
   "metadata": {},
   "outputs": [],
   "source": [
    "while True:\n",
    "    pass"
   ]
  },
  {
   "cell_type": "code",
   "execution_count": null,
   "metadata": {},
   "outputs": [],
   "source": [
    "def checkPass(a):\n",
    "    pass"
   ]
  },
  {
   "cell_type": "code",
   "execution_count": null,
   "metadata": {},
   "outputs": [],
   "source": [
    "class emptyclass:\n",
    "    pass"
   ]
  },
  {
   "cell_type": "markdown",
   "metadata": {},
   "source": [
    "# <font color = \"green\"> Comprehensions</font>\n",
    "\n",
    "Comprehensions are constructs that allow sequences to be built from other sequences. "
   ]
  },
  {
   "cell_type": "code",
   "execution_count": null,
   "metadata": {},
   "outputs": [],
   "source": [
    "# List Comprehension : concise way to create a list\n",
    "# [expression followed by zero or more for or if clauses]\n",
    "Every List comprehension can be rewritten using for loop. But every for loop can not be rewritten as a list \n",
    "comprehension."
   ]
  }
 ],
 "metadata": {
  "kernelspec": {
   "display_name": "Python 3",
   "language": "python",
   "name": "python3"
  },
  "language_info": {
   "codemirror_mode": {
    "name": "ipython",
    "version": 3
   },
   "file_extension": ".py",
   "mimetype": "text/x-python",
   "name": "python",
   "nbconvert_exporter": "python",
   "pygments_lexer": "ipython3",
   "version": "3.7.1"
  }
 },
 "nbformat": 4,
 "nbformat_minor": 2
}
